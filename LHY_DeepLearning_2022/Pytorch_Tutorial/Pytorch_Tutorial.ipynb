{
 "nbformat": 4,
 "nbformat_minor": 0,
 "metadata": {
  "colab": {
   "name": "Pytorch Tutorial",
   "provenance": [],
   "collapsed_sections": []
  },
  "kernelspec": {
   "name": "python3",
   "display_name": "Python 3"
  },
  "accelerator": "GPU"
 },
 "cells": [
  {
   "cell_type": "markdown",
   "metadata": {
    "id": "tHILOGjOQbsQ"
   },
   "source": [
    "# **Pytorch Tutorial**\n"
   ]
  },
  {
   "cell_type": "code",
   "metadata": {
    "id": "C1zA7GupxdJv"
   },
   "source": [
    "import torch"
   ],
   "execution_count": 2,
   "outputs": []
  },
  {
   "cell_type": "markdown",
   "metadata": {
    "id": "6Eqj90EkWbWx"
   },
   "source": [
    "**1. Pytorch Documentation Explanation with torch.max**\n",
    "\n"
   ]
  },
  {
   "cell_type": "code",
   "metadata": {
    "id": "JCXOg-iSQuk7"
   },
   "source": [
    "x = torch.randn(4,5)\n",
    "y = torch.randn(4,5)\n",
    "z = torch.randn(4,5)\n",
    "print(x)\n",
    "print(y)\n",
    "print(z)"
   ],
   "execution_count": 3,
   "outputs": [
    {
     "name": "stdout",
     "output_type": "stream",
     "text": [
      "tensor([[-7.0918e-01,  2.2786e-01, -6.1309e-01,  1.2873e+00, -4.6672e-01],\n",
      "        [ 1.7216e+00,  1.1417e+00,  1.0759e+00, -1.9632e-01,  1.1002e+00],\n",
      "        [-1.1961e+00,  7.3240e-01,  3.9282e-01, -8.1254e-01,  1.1156e-03],\n",
      "        [ 1.3584e+00,  1.1170e+00,  7.2067e-01, -7.5530e-01,  3.6889e-02]])\n",
      "tensor([[-0.3869, -0.7374, -1.1288,  0.4850,  0.3133],\n",
      "        [ 0.1153,  1.7710,  0.2042,  0.7531, -1.5838],\n",
      "        [-0.9321, -1.0866, -0.0046, -0.5916,  0.8239],\n",
      "        [ 0.4896, -0.6551,  1.3731, -0.0035, -1.0384]])\n",
      "tensor([[-2.1330, -0.7767,  0.0179,  0.6254, -1.5612],\n",
      "        [-0.1663,  0.5763,  0.6240,  0.0060,  0.1171],\n",
      "        [-1.7770,  1.0055,  2.5011,  1.4575, -1.4443],\n",
      "        [-0.7659,  1.5474, -1.5390, -0.1753,  1.5153]])\n"
     ]
    }
   ]
  },
  {
   "cell_type": "code",
   "metadata": {
    "id": "EEqa9GFoWF78"
   },
   "source": [
    "# 1. max of entire tensor (torch.max(input) → Tensor)\n",
    "m = torch.max(x)\n",
    "print(m)"
   ],
   "execution_count": 4,
   "outputs": [
    {
     "name": "stdout",
     "output_type": "stream",
     "text": [
      "tensor(1.7216)\n"
     ]
    }
   ]
  },
  {
   "cell_type": "code",
   "metadata": {
    "id": "wffThGDyWKxJ"
   },
   "source": [
    "# 2. max along a dimension (torch.max(input, dim, keepdim=False, *, out=None) → (Tensor, LongTensor))\n",
    "m, idx = torch.max(x,0)\n",
    "print(m)\n",
    "print(idx)"
   ],
   "execution_count": 5,
   "outputs": [
    {
     "name": "stdout",
     "output_type": "stream",
     "text": [
      "tensor([1.7216, 1.1417, 1.0759, 1.2873, 1.1002])\n",
      "tensor([1, 1, 1, 0, 1])\n"
     ]
    }
   ]
  },
  {
   "cell_type": "code",
   "metadata": {
    "id": "oKDQW3tIXKg-"
   },
   "source": [
    "# 2-2\n",
    "m, idx = torch.max(input=x,dim=0)\n",
    "print(m)\n",
    "print(idx)"
   ],
   "execution_count": 6,
   "outputs": [
    {
     "name": "stdout",
     "output_type": "stream",
     "text": [
      "tensor([1.7216, 1.1417, 1.0759, 1.2873, 1.1002])\n",
      "tensor([1, 1, 1, 0, 1])\n"
     ]
    }
   ]
  },
  {
   "cell_type": "code",
   "metadata": {
    "id": "6QZ6WRLyX3De"
   },
   "source": [
    "# 2-3\n",
    "m, idx = torch.max(x,0,False)\n",
    "print(m)\n",
    "print(idx)"
   ],
   "execution_count": 7,
   "outputs": [
    {
     "name": "stdout",
     "output_type": "stream",
     "text": [
      "tensor([1.7216, 1.1417, 1.0759, 1.2873, 1.1002])\n",
      "tensor([1, 1, 1, 0, 1])\n"
     ]
    }
   ]
  },
  {
   "cell_type": "code",
   "metadata": {
    "id": "nqGuctkKbUEn"
   },
   "source": [
    "# 2-4\n",
    "m, idx = torch.max(x,dim=0,keepdim=True)\n",
    "print(m)\n",
    "print(idx)"
   ],
   "execution_count": 8,
   "outputs": [
    {
     "name": "stdout",
     "output_type": "stream",
     "text": [
      "tensor([[1.7216, 1.1417, 1.0759, 1.2873, 1.1002]])\n",
      "tensor([[1, 1, 1, 0, 1]])\n"
     ]
    }
   ]
  },
  {
   "cell_type": "code",
   "metadata": {
    "id": "9OMzxuMlZPIu"
   },
   "source": [
    "# 2-5\n",
    "p = (m,idx)\n",
    "torch.max(x,0,False,out=p)\n",
    "print(p[0])\n",
    "print(p[1])\n"
   ],
   "execution_count": 9,
   "outputs": [
    {
     "name": "stdout",
     "output_type": "stream",
     "text": [
      "tensor([1.7216, 1.1417, 1.0759, 1.2873, 1.1002])\n",
      "tensor([1, 1, 1, 0, 1])\n"
     ]
    }
   ]
  },
  {
   "cell_type": "code",
   "metadata": {
    "id": "uhd4TqGTbD2c"
   },
   "source": [
    "# 2-6\n",
    "p = (m,idx)\n",
    "torch.max(x,0,False,p)\n",
    "print(p[0])\n",
    "print(p[1])"
   ],
   "execution_count": 12,
   "outputs": [
    {
     "ename": "TypeError",
     "evalue": "max() received an invalid combination of arguments - got (Tensor, int, bool, tuple), but expected one of:\n * (Tensor input)\n * (Tensor input, name dim, bool keepdim, *, tuple of Tensors out)\n * (Tensor input, Tensor other, *, Tensor out)\n      didn't match because some of the arguments have invalid types: (Tensor, !int!, !bool!, !tuple!)\n * (Tensor input, int dim, bool keepdim, *, tuple of Tensors out)\n",
     "output_type": "error",
     "traceback": [
      "\u001B[1;31m---------------------------------------------------------------------------\u001B[0m",
      "\u001B[1;31mTypeError\u001B[0m                                 Traceback (most recent call last)",
      "Cell \u001B[1;32mIn [12], line 3\u001B[0m\n\u001B[0;32m      1\u001B[0m \u001B[38;5;66;03m# 2-6\u001B[39;00m\n\u001B[0;32m      2\u001B[0m p \u001B[38;5;241m=\u001B[39m (m,idx)\n\u001B[1;32m----> 3\u001B[0m \u001B[43mtorch\u001B[49m\u001B[38;5;241;43m.\u001B[39;49m\u001B[43mmax\u001B[49m\u001B[43m(\u001B[49m\u001B[43mx\u001B[49m\u001B[43m,\u001B[49m\u001B[38;5;241;43m0\u001B[39;49m\u001B[43m,\u001B[49m\u001B[38;5;28;43;01mFalse\u001B[39;49;00m\u001B[43m,\u001B[49m\u001B[43mp\u001B[49m\u001B[43m)\u001B[49m\n\u001B[0;32m      4\u001B[0m \u001B[38;5;28mprint\u001B[39m(p[\u001B[38;5;241m0\u001B[39m])\n\u001B[0;32m      5\u001B[0m \u001B[38;5;28mprint\u001B[39m(p[\u001B[38;5;241m1\u001B[39m])\n",
      "\u001B[1;31mTypeError\u001B[0m: max() received an invalid combination of arguments - got (Tensor, int, bool, tuple), but expected one of:\n * (Tensor input)\n * (Tensor input, name dim, bool keepdim, *, tuple of Tensors out)\n * (Tensor input, Tensor other, *, Tensor out)\n      didn't match because some of the arguments have invalid types: (Tensor, !int!, !bool!, !tuple!)\n * (Tensor input, int dim, bool keepdim, *, tuple of Tensors out)\n"
     ]
    }
   ]
  },
  {
   "cell_type": "code",
   "metadata": {
    "id": "wbxjUSOXxN0n"
   },
   "source": [
    "# 2-7\n",
    "m, idx = torch.max(x,True)"
   ],
   "execution_count": 13,
   "outputs": [
    {
     "ename": "TypeError",
     "evalue": "max() received an invalid combination of arguments - got (Tensor, bool), but expected one of:\n * (Tensor input)\n * (Tensor input, name dim, bool keepdim, *, tuple of Tensors out)\n * (Tensor input, Tensor other, *, Tensor out)\n * (Tensor input, int dim, bool keepdim, *, tuple of Tensors out)\n",
     "output_type": "error",
     "traceback": [
      "\u001B[1;31m---------------------------------------------------------------------------\u001B[0m",
      "\u001B[1;31mTypeError\u001B[0m                                 Traceback (most recent call last)",
      "Cell \u001B[1;32mIn [13], line 2\u001B[0m\n\u001B[0;32m      1\u001B[0m \u001B[38;5;66;03m# 2-7\u001B[39;00m\n\u001B[1;32m----> 2\u001B[0m m, idx \u001B[38;5;241m=\u001B[39m \u001B[43mtorch\u001B[49m\u001B[38;5;241;43m.\u001B[39;49m\u001B[43mmax\u001B[49m\u001B[43m(\u001B[49m\u001B[43mx\u001B[49m\u001B[43m,\u001B[49m\u001B[38;5;28;43;01mTrue\u001B[39;49;00m\u001B[43m)\u001B[49m\n",
      "\u001B[1;31mTypeError\u001B[0m: max() received an invalid combination of arguments - got (Tensor, bool), but expected one of:\n * (Tensor input)\n * (Tensor input, name dim, bool keepdim, *, tuple of Tensors out)\n * (Tensor input, Tensor other, *, Tensor out)\n * (Tensor input, int dim, bool keepdim, *, tuple of Tensors out)\n"
     ]
    }
   ]
  },
  {
   "cell_type": "code",
   "metadata": {
    "id": "iMwhGLlGWYaR"
   },
   "source": [
    "# 3. max(choose max) operators on two tensors (torch.max(input, other, *, out=None) → Tensor)\n",
    "t = torch.max(x,y)\n",
    "print(t)"
   ],
   "execution_count": 14,
   "outputs": [
    {
     "name": "stdout",
     "output_type": "stream",
     "text": [
      "tensor([[-0.3869,  0.2279, -0.6131,  1.2873,  0.3133],\n",
      "        [ 1.7216,  1.7710,  1.0759,  0.7531,  1.1002],\n",
      "        [-0.9321,  0.7324,  0.3928, -0.5916,  0.8239],\n",
      "        [ 1.3584,  1.1170,  1.3731, -0.0035,  0.0369]])\n"
     ]
    }
   ]
  },
  {
   "cell_type": "markdown",
   "metadata": {
    "id": "nFxRKu2Dedwb"
   },
   "source": [
    "**2. Common errors**\n",
    "\n"
   ]
  },
  {
   "cell_type": "markdown",
   "metadata": {
    "id": "KMcRyMxGwhul"
   },
   "source": [
    "The following code blocks show some common errors while using the torch library. First, execute the code with error, and then execute the next code block to fix the error. You need to change the runtime to GPU.\n"
   ]
  },
  {
   "cell_type": "code",
   "metadata": {
    "id": "eX-kKdi6ynFf"
   },
   "source": [
    "import torch"
   ],
   "execution_count": 15,
   "outputs": []
  },
  {
   "cell_type": "code",
   "metadata": {
    "id": "-muJ4KKreoP2",
    "colab": {
     "base_uri": "https://localhost:8080/",
     "height": 363
    },
    "outputId": "c1d5c3a5-9540-4145-d80c-3cbca18a1deb"
   },
   "source": [
    "# 1. different device error\n",
    "model = torch.nn.Linear(5,1).to(\"cuda:0\")\n",
    "x = torch.Tensor([1,2,3,4,5]).to(\"cpu\")\n",
    "y = model(x)"
   ],
   "execution_count": 16,
   "outputs": [
    {
     "ename": "RuntimeError",
     "evalue": "Tensor for 'out' is on CPU, Tensor for argument #1 'self' is on CPU, but expected them to be on GPU (while checking arguments for addmm)",
     "output_type": "error",
     "traceback": [
      "\u001B[1;31m---------------------------------------------------------------------------\u001B[0m",
      "\u001B[1;31mRuntimeError\u001B[0m                              Traceback (most recent call last)",
      "Cell \u001B[1;32mIn [16], line 4\u001B[0m\n\u001B[0;32m      2\u001B[0m model \u001B[38;5;241m=\u001B[39m torch\u001B[38;5;241m.\u001B[39mnn\u001B[38;5;241m.\u001B[39mLinear(\u001B[38;5;241m5\u001B[39m,\u001B[38;5;241m1\u001B[39m)\u001B[38;5;241m.\u001B[39mto(\u001B[38;5;124m\"\u001B[39m\u001B[38;5;124mcuda:0\u001B[39m\u001B[38;5;124m\"\u001B[39m)\n\u001B[0;32m      3\u001B[0m x \u001B[38;5;241m=\u001B[39m torch\u001B[38;5;241m.\u001B[39mTensor([\u001B[38;5;241m1\u001B[39m,\u001B[38;5;241m2\u001B[39m,\u001B[38;5;241m3\u001B[39m,\u001B[38;5;241m4\u001B[39m,\u001B[38;5;241m5\u001B[39m])\u001B[38;5;241m.\u001B[39mto(\u001B[38;5;124m\"\u001B[39m\u001B[38;5;124mcpu\u001B[39m\u001B[38;5;124m\"\u001B[39m)\n\u001B[1;32m----> 4\u001B[0m y \u001B[38;5;241m=\u001B[39m \u001B[43mmodel\u001B[49m\u001B[43m(\u001B[49m\u001B[43mx\u001B[49m\u001B[43m)\u001B[49m\n",
      "File \u001B[1;32mE:\\Environment\\Python\\Anaconda3\\install\\envs\\Python3812\\lib\\site-packages\\torch\\nn\\modules\\module.py:889\u001B[0m, in \u001B[0;36mModule._call_impl\u001B[1;34m(self, *input, **kwargs)\u001B[0m\n\u001B[0;32m    887\u001B[0m     result \u001B[38;5;241m=\u001B[39m \u001B[38;5;28mself\u001B[39m\u001B[38;5;241m.\u001B[39m_slow_forward(\u001B[38;5;241m*\u001B[39m\u001B[38;5;28minput\u001B[39m, \u001B[38;5;241m*\u001B[39m\u001B[38;5;241m*\u001B[39mkwargs)\n\u001B[0;32m    888\u001B[0m \u001B[38;5;28;01melse\u001B[39;00m:\n\u001B[1;32m--> 889\u001B[0m     result \u001B[38;5;241m=\u001B[39m \u001B[38;5;28;43mself\u001B[39;49m\u001B[38;5;241;43m.\u001B[39;49m\u001B[43mforward\u001B[49m\u001B[43m(\u001B[49m\u001B[38;5;241;43m*\u001B[39;49m\u001B[38;5;28;43minput\u001B[39;49m\u001B[43m,\u001B[49m\u001B[43m \u001B[49m\u001B[38;5;241;43m*\u001B[39;49m\u001B[38;5;241;43m*\u001B[39;49m\u001B[43mkwargs\u001B[49m\u001B[43m)\u001B[49m\n\u001B[0;32m    890\u001B[0m \u001B[38;5;28;01mfor\u001B[39;00m hook \u001B[38;5;129;01min\u001B[39;00m itertools\u001B[38;5;241m.\u001B[39mchain(\n\u001B[0;32m    891\u001B[0m         _global_forward_hooks\u001B[38;5;241m.\u001B[39mvalues(),\n\u001B[0;32m    892\u001B[0m         \u001B[38;5;28mself\u001B[39m\u001B[38;5;241m.\u001B[39m_forward_hooks\u001B[38;5;241m.\u001B[39mvalues()):\n\u001B[0;32m    893\u001B[0m     hook_result \u001B[38;5;241m=\u001B[39m hook(\u001B[38;5;28mself\u001B[39m, \u001B[38;5;28minput\u001B[39m, result)\n",
      "File \u001B[1;32mE:\\Environment\\Python\\Anaconda3\\install\\envs\\Python3812\\lib\\site-packages\\torch\\nn\\modules\\linear.py:94\u001B[0m, in \u001B[0;36mLinear.forward\u001B[1;34m(self, input)\u001B[0m\n\u001B[0;32m     93\u001B[0m \u001B[38;5;28;01mdef\u001B[39;00m \u001B[38;5;21mforward\u001B[39m(\u001B[38;5;28mself\u001B[39m, \u001B[38;5;28minput\u001B[39m: Tensor) \u001B[38;5;241m-\u001B[39m\u001B[38;5;241m>\u001B[39m Tensor:\n\u001B[1;32m---> 94\u001B[0m     \u001B[38;5;28;01mreturn\u001B[39;00m \u001B[43mF\u001B[49m\u001B[38;5;241;43m.\u001B[39;49m\u001B[43mlinear\u001B[49m\u001B[43m(\u001B[49m\u001B[38;5;28;43minput\u001B[39;49m\u001B[43m,\u001B[49m\u001B[43m \u001B[49m\u001B[38;5;28;43mself\u001B[39;49m\u001B[38;5;241;43m.\u001B[39;49m\u001B[43mweight\u001B[49m\u001B[43m,\u001B[49m\u001B[43m \u001B[49m\u001B[38;5;28;43mself\u001B[39;49m\u001B[38;5;241;43m.\u001B[39;49m\u001B[43mbias\u001B[49m\u001B[43m)\u001B[49m\n",
      "File \u001B[1;32mE:\\Environment\\Python\\Anaconda3\\install\\envs\\Python3812\\lib\\site-packages\\torch\\nn\\functional.py:1753\u001B[0m, in \u001B[0;36mlinear\u001B[1;34m(input, weight, bias)\u001B[0m\n\u001B[0;32m   1751\u001B[0m \u001B[38;5;28;01mif\u001B[39;00m has_torch_function_variadic(\u001B[38;5;28minput\u001B[39m, weight):\n\u001B[0;32m   1752\u001B[0m     \u001B[38;5;28;01mreturn\u001B[39;00m handle_torch_function(linear, (\u001B[38;5;28minput\u001B[39m, weight), \u001B[38;5;28minput\u001B[39m, weight, bias\u001B[38;5;241m=\u001B[39mbias)\n\u001B[1;32m-> 1753\u001B[0m \u001B[38;5;28;01mreturn\u001B[39;00m \u001B[43mtorch\u001B[49m\u001B[38;5;241;43m.\u001B[39;49m\u001B[43m_C\u001B[49m\u001B[38;5;241;43m.\u001B[39;49m\u001B[43m_nn\u001B[49m\u001B[38;5;241;43m.\u001B[39;49m\u001B[43mlinear\u001B[49m\u001B[43m(\u001B[49m\u001B[38;5;28;43minput\u001B[39;49m\u001B[43m,\u001B[49m\u001B[43m \u001B[49m\u001B[43mweight\u001B[49m\u001B[43m,\u001B[49m\u001B[43m \u001B[49m\u001B[43mbias\u001B[49m\u001B[43m)\u001B[49m\n",
      "\u001B[1;31mRuntimeError\u001B[0m: Tensor for 'out' is on CPU, Tensor for argument #1 'self' is on CPU, but expected them to be on GPU (while checking arguments for addmm)"
     ]
    }
   ]
  },
  {
   "cell_type": "code",
   "metadata": {
    "id": "a54PqxJLe9-c",
    "colab": {
     "base_uri": "https://localhost:8080/"
    },
    "outputId": "909d3693-236f-4419-f269-8fb443ef7534"
   },
   "source": [
    "# 1. different device error (fixed)\n",
    "x = torch.Tensor([1,2,3,4,5]).to(\"cuda:0\")\n",
    "y = model(x)\n",
    "print(y.shape)"
   ],
   "execution_count": 17,
   "outputs": [
    {
     "name": "stdout",
     "output_type": "stream",
     "text": [
      "torch.Size([1])\n"
     ]
    }
   ]
  },
  {
   "cell_type": "code",
   "metadata": {
    "id": "n7OHtZwbi7Qw",
    "colab": {
     "base_uri": "https://localhost:8080/",
     "height": 201
    },
    "outputId": "2a7d2dd0-6498-4da0-9591-3554c1739046"
   },
   "source": [
    "# 2. mismatched dimensions error\n",
    "x = torch.randn(4,5)\n",
    "y= torch.randn(5,4)\n",
    "z = x + y"
   ],
   "execution_count": 18,
   "outputs": [
    {
     "ename": "RuntimeError",
     "evalue": "The size of tensor a (5) must match the size of tensor b (4) at non-singleton dimension 1",
     "output_type": "error",
     "traceback": [
      "\u001B[1;31m---------------------------------------------------------------------------\u001B[0m",
      "\u001B[1;31mRuntimeError\u001B[0m                              Traceback (most recent call last)",
      "Cell \u001B[1;32mIn [18], line 4\u001B[0m\n\u001B[0;32m      2\u001B[0m x \u001B[38;5;241m=\u001B[39m torch\u001B[38;5;241m.\u001B[39mrandn(\u001B[38;5;241m4\u001B[39m,\u001B[38;5;241m5\u001B[39m)\n\u001B[0;32m      3\u001B[0m y\u001B[38;5;241m=\u001B[39m torch\u001B[38;5;241m.\u001B[39mrandn(\u001B[38;5;241m5\u001B[39m,\u001B[38;5;241m4\u001B[39m)\n\u001B[1;32m----> 4\u001B[0m z \u001B[38;5;241m=\u001B[39m \u001B[43mx\u001B[49m\u001B[43m \u001B[49m\u001B[38;5;241;43m+\u001B[39;49m\u001B[43m \u001B[49m\u001B[43my\u001B[49m\n",
      "\u001B[1;31mRuntimeError\u001B[0m: The size of tensor a (5) must match the size of tensor b (4) at non-singleton dimension 1"
     ]
    }
   ]
  },
  {
   "cell_type": "code",
   "metadata": {
    "id": "qVynzvrskFCD",
    "colab": {
     "base_uri": "https://localhost:8080/"
    },
    "outputId": "926dc01c-be6f-48e1-ad39-a5bcecebc513"
   },
   "source": [
    "# 2. mismatched dimensions error (fixed)\n",
    "y= y.transpose(0,1)\n",
    "z = x + y\n",
    "print(z.shape)"
   ],
   "execution_count": 19,
   "outputs": [
    {
     "name": "stdout",
     "output_type": "stream",
     "text": [
      "torch.Size([4, 5])\n"
     ]
    }
   ]
  },
  {
   "cell_type": "code",
   "metadata": {
    "id": "Hgzgb9gJANod",
    "colab": {
     "base_uri": "https://localhost:8080/",
     "height": 398
    },
    "outputId": "21b58850-b3f1-4f2a-db5d-cc45e47ccbea"
   },
   "source": [
    "# 3. cuda out of memory error\n",
    "import torch\n",
    "import torchvision.models as models\n",
    "resnet18 = models.resnet18().to(\"cuda:0\") # Neural Networks for Image Recognition\n",
    "data = torch.randn(2048,3,244,244) # Create fake data (512 images)\n",
    "out = resnet18(data.to(\"cuda:0\")) # Use Data as Input and Feed to Model\n",
    "print(out.shape)\n"
   ],
   "execution_count": 20,
   "outputs": [
    {
     "ename": "RuntimeError",
     "evalue": "CUDA out of memory. Tried to allocate 7.27 GiB (GPU 0; 6.00 GiB total capacity; 1.41 GiB already allocated; 3.10 GiB free; 1.43 GiB reserved in total by PyTorch)",
     "output_type": "error",
     "traceback": [
      "\u001B[1;31m---------------------------------------------------------------------------\u001B[0m",
      "\u001B[1;31mRuntimeError\u001B[0m                              Traceback (most recent call last)",
      "Cell \u001B[1;32mIn [20], line 6\u001B[0m\n\u001B[0;32m      4\u001B[0m resnet18 \u001B[38;5;241m=\u001B[39m models\u001B[38;5;241m.\u001B[39mresnet18()\u001B[38;5;241m.\u001B[39mto(\u001B[38;5;124m\"\u001B[39m\u001B[38;5;124mcuda:0\u001B[39m\u001B[38;5;124m\"\u001B[39m) \u001B[38;5;66;03m# Neural Networks for Image Recognition\u001B[39;00m\n\u001B[0;32m      5\u001B[0m data \u001B[38;5;241m=\u001B[39m torch\u001B[38;5;241m.\u001B[39mrandn(\u001B[38;5;241m2048\u001B[39m,\u001B[38;5;241m3\u001B[39m,\u001B[38;5;241m244\u001B[39m,\u001B[38;5;241m244\u001B[39m) \u001B[38;5;66;03m# Create fake data (512 images)\u001B[39;00m\n\u001B[1;32m----> 6\u001B[0m out \u001B[38;5;241m=\u001B[39m \u001B[43mresnet18\u001B[49m\u001B[43m(\u001B[49m\u001B[43mdata\u001B[49m\u001B[38;5;241;43m.\u001B[39;49m\u001B[43mto\u001B[49m\u001B[43m(\u001B[49m\u001B[38;5;124;43m\"\u001B[39;49m\u001B[38;5;124;43mcuda:0\u001B[39;49m\u001B[38;5;124;43m\"\u001B[39;49m\u001B[43m)\u001B[49m\u001B[43m)\u001B[49m \u001B[38;5;66;03m# Use Data as Input and Feed to Model\u001B[39;00m\n\u001B[0;32m      7\u001B[0m \u001B[38;5;28mprint\u001B[39m(out\u001B[38;5;241m.\u001B[39mshape)\n",
      "File \u001B[1;32mE:\\Environment\\Python\\Anaconda3\\install\\envs\\Python3812\\lib\\site-packages\\torch\\nn\\modules\\module.py:889\u001B[0m, in \u001B[0;36mModule._call_impl\u001B[1;34m(self, *input, **kwargs)\u001B[0m\n\u001B[0;32m    887\u001B[0m     result \u001B[38;5;241m=\u001B[39m \u001B[38;5;28mself\u001B[39m\u001B[38;5;241m.\u001B[39m_slow_forward(\u001B[38;5;241m*\u001B[39m\u001B[38;5;28minput\u001B[39m, \u001B[38;5;241m*\u001B[39m\u001B[38;5;241m*\u001B[39mkwargs)\n\u001B[0;32m    888\u001B[0m \u001B[38;5;28;01melse\u001B[39;00m:\n\u001B[1;32m--> 889\u001B[0m     result \u001B[38;5;241m=\u001B[39m \u001B[38;5;28;43mself\u001B[39;49m\u001B[38;5;241;43m.\u001B[39;49m\u001B[43mforward\u001B[49m\u001B[43m(\u001B[49m\u001B[38;5;241;43m*\u001B[39;49m\u001B[38;5;28;43minput\u001B[39;49m\u001B[43m,\u001B[49m\u001B[43m \u001B[49m\u001B[38;5;241;43m*\u001B[39;49m\u001B[38;5;241;43m*\u001B[39;49m\u001B[43mkwargs\u001B[49m\u001B[43m)\u001B[49m\n\u001B[0;32m    890\u001B[0m \u001B[38;5;28;01mfor\u001B[39;00m hook \u001B[38;5;129;01min\u001B[39;00m itertools\u001B[38;5;241m.\u001B[39mchain(\n\u001B[0;32m    891\u001B[0m         _global_forward_hooks\u001B[38;5;241m.\u001B[39mvalues(),\n\u001B[0;32m    892\u001B[0m         \u001B[38;5;28mself\u001B[39m\u001B[38;5;241m.\u001B[39m_forward_hooks\u001B[38;5;241m.\u001B[39mvalues()):\n\u001B[0;32m    893\u001B[0m     hook_result \u001B[38;5;241m=\u001B[39m hook(\u001B[38;5;28mself\u001B[39m, \u001B[38;5;28minput\u001B[39m, result)\n",
      "File \u001B[1;32mE:\\Environment\\Python\\Anaconda3\\install\\envs\\Python3812\\lib\\site-packages\\torchvision\\models\\resnet.py:249\u001B[0m, in \u001B[0;36mResNet.forward\u001B[1;34m(self, x)\u001B[0m\n\u001B[0;32m    248\u001B[0m \u001B[38;5;28;01mdef\u001B[39;00m \u001B[38;5;21mforward\u001B[39m(\u001B[38;5;28mself\u001B[39m, x: Tensor) \u001B[38;5;241m-\u001B[39m\u001B[38;5;241m>\u001B[39m Tensor:\n\u001B[1;32m--> 249\u001B[0m     \u001B[38;5;28;01mreturn\u001B[39;00m \u001B[38;5;28;43mself\u001B[39;49m\u001B[38;5;241;43m.\u001B[39;49m\u001B[43m_forward_impl\u001B[49m\u001B[43m(\u001B[49m\u001B[43mx\u001B[49m\u001B[43m)\u001B[49m\n",
      "File \u001B[1;32mE:\\Environment\\Python\\Anaconda3\\install\\envs\\Python3812\\lib\\site-packages\\torchvision\\models\\resnet.py:232\u001B[0m, in \u001B[0;36mResNet._forward_impl\u001B[1;34m(self, x)\u001B[0m\n\u001B[0;32m    230\u001B[0m \u001B[38;5;28;01mdef\u001B[39;00m \u001B[38;5;21m_forward_impl\u001B[39m(\u001B[38;5;28mself\u001B[39m, x: Tensor) \u001B[38;5;241m-\u001B[39m\u001B[38;5;241m>\u001B[39m Tensor:\n\u001B[0;32m    231\u001B[0m     \u001B[38;5;66;03m# See note [TorchScript super()]\u001B[39;00m\n\u001B[1;32m--> 232\u001B[0m     x \u001B[38;5;241m=\u001B[39m \u001B[38;5;28;43mself\u001B[39;49m\u001B[38;5;241;43m.\u001B[39;49m\u001B[43mconv1\u001B[49m\u001B[43m(\u001B[49m\u001B[43mx\u001B[49m\u001B[43m)\u001B[49m\n\u001B[0;32m    233\u001B[0m     x \u001B[38;5;241m=\u001B[39m \u001B[38;5;28mself\u001B[39m\u001B[38;5;241m.\u001B[39mbn1(x)\n\u001B[0;32m    234\u001B[0m     x \u001B[38;5;241m=\u001B[39m \u001B[38;5;28mself\u001B[39m\u001B[38;5;241m.\u001B[39mrelu(x)\n",
      "File \u001B[1;32mE:\\Environment\\Python\\Anaconda3\\install\\envs\\Python3812\\lib\\site-packages\\torch\\nn\\modules\\module.py:889\u001B[0m, in \u001B[0;36mModule._call_impl\u001B[1;34m(self, *input, **kwargs)\u001B[0m\n\u001B[0;32m    887\u001B[0m     result \u001B[38;5;241m=\u001B[39m \u001B[38;5;28mself\u001B[39m\u001B[38;5;241m.\u001B[39m_slow_forward(\u001B[38;5;241m*\u001B[39m\u001B[38;5;28minput\u001B[39m, \u001B[38;5;241m*\u001B[39m\u001B[38;5;241m*\u001B[39mkwargs)\n\u001B[0;32m    888\u001B[0m \u001B[38;5;28;01melse\u001B[39;00m:\n\u001B[1;32m--> 889\u001B[0m     result \u001B[38;5;241m=\u001B[39m \u001B[38;5;28;43mself\u001B[39;49m\u001B[38;5;241;43m.\u001B[39;49m\u001B[43mforward\u001B[49m\u001B[43m(\u001B[49m\u001B[38;5;241;43m*\u001B[39;49m\u001B[38;5;28;43minput\u001B[39;49m\u001B[43m,\u001B[49m\u001B[43m \u001B[49m\u001B[38;5;241;43m*\u001B[39;49m\u001B[38;5;241;43m*\u001B[39;49m\u001B[43mkwargs\u001B[49m\u001B[43m)\u001B[49m\n\u001B[0;32m    890\u001B[0m \u001B[38;5;28;01mfor\u001B[39;00m hook \u001B[38;5;129;01min\u001B[39;00m itertools\u001B[38;5;241m.\u001B[39mchain(\n\u001B[0;32m    891\u001B[0m         _global_forward_hooks\u001B[38;5;241m.\u001B[39mvalues(),\n\u001B[0;32m    892\u001B[0m         \u001B[38;5;28mself\u001B[39m\u001B[38;5;241m.\u001B[39m_forward_hooks\u001B[38;5;241m.\u001B[39mvalues()):\n\u001B[0;32m    893\u001B[0m     hook_result \u001B[38;5;241m=\u001B[39m hook(\u001B[38;5;28mself\u001B[39m, \u001B[38;5;28minput\u001B[39m, result)\n",
      "File \u001B[1;32mE:\\Environment\\Python\\Anaconda3\\install\\envs\\Python3812\\lib\\site-packages\\torch\\nn\\modules\\conv.py:399\u001B[0m, in \u001B[0;36mConv2d.forward\u001B[1;34m(self, input)\u001B[0m\n\u001B[0;32m    398\u001B[0m \u001B[38;5;28;01mdef\u001B[39;00m \u001B[38;5;21mforward\u001B[39m(\u001B[38;5;28mself\u001B[39m, \u001B[38;5;28minput\u001B[39m: Tensor) \u001B[38;5;241m-\u001B[39m\u001B[38;5;241m>\u001B[39m Tensor:\n\u001B[1;32m--> 399\u001B[0m     \u001B[38;5;28;01mreturn\u001B[39;00m \u001B[38;5;28;43mself\u001B[39;49m\u001B[38;5;241;43m.\u001B[39;49m\u001B[43m_conv_forward\u001B[49m\u001B[43m(\u001B[49m\u001B[38;5;28;43minput\u001B[39;49m\u001B[43m,\u001B[49m\u001B[43m \u001B[49m\u001B[38;5;28;43mself\u001B[39;49m\u001B[38;5;241;43m.\u001B[39;49m\u001B[43mweight\u001B[49m\u001B[43m,\u001B[49m\u001B[43m \u001B[49m\u001B[38;5;28;43mself\u001B[39;49m\u001B[38;5;241;43m.\u001B[39;49m\u001B[43mbias\u001B[49m\u001B[43m)\u001B[49m\n",
      "File \u001B[1;32mE:\\Environment\\Python\\Anaconda3\\install\\envs\\Python3812\\lib\\site-packages\\torch\\nn\\modules\\conv.py:395\u001B[0m, in \u001B[0;36mConv2d._conv_forward\u001B[1;34m(self, input, weight, bias)\u001B[0m\n\u001B[0;32m    391\u001B[0m \u001B[38;5;28;01mif\u001B[39;00m \u001B[38;5;28mself\u001B[39m\u001B[38;5;241m.\u001B[39mpadding_mode \u001B[38;5;241m!=\u001B[39m \u001B[38;5;124m'\u001B[39m\u001B[38;5;124mzeros\u001B[39m\u001B[38;5;124m'\u001B[39m:\n\u001B[0;32m    392\u001B[0m     \u001B[38;5;28;01mreturn\u001B[39;00m F\u001B[38;5;241m.\u001B[39mconv2d(F\u001B[38;5;241m.\u001B[39mpad(\u001B[38;5;28minput\u001B[39m, \u001B[38;5;28mself\u001B[39m\u001B[38;5;241m.\u001B[39m_reversed_padding_repeated_twice, mode\u001B[38;5;241m=\u001B[39m\u001B[38;5;28mself\u001B[39m\u001B[38;5;241m.\u001B[39mpadding_mode),\n\u001B[0;32m    393\u001B[0m                     weight, bias, \u001B[38;5;28mself\u001B[39m\u001B[38;5;241m.\u001B[39mstride,\n\u001B[0;32m    394\u001B[0m                     _pair(\u001B[38;5;241m0\u001B[39m), \u001B[38;5;28mself\u001B[39m\u001B[38;5;241m.\u001B[39mdilation, \u001B[38;5;28mself\u001B[39m\u001B[38;5;241m.\u001B[39mgroups)\n\u001B[1;32m--> 395\u001B[0m \u001B[38;5;28;01mreturn\u001B[39;00m \u001B[43mF\u001B[49m\u001B[38;5;241;43m.\u001B[39;49m\u001B[43mconv2d\u001B[49m\u001B[43m(\u001B[49m\u001B[38;5;28;43minput\u001B[39;49m\u001B[43m,\u001B[49m\u001B[43m \u001B[49m\u001B[43mweight\u001B[49m\u001B[43m,\u001B[49m\u001B[43m \u001B[49m\u001B[43mbias\u001B[49m\u001B[43m,\u001B[49m\u001B[43m \u001B[49m\u001B[38;5;28;43mself\u001B[39;49m\u001B[38;5;241;43m.\u001B[39;49m\u001B[43mstride\u001B[49m\u001B[43m,\u001B[49m\n\u001B[0;32m    396\u001B[0m \u001B[43m                \u001B[49m\u001B[38;5;28;43mself\u001B[39;49m\u001B[38;5;241;43m.\u001B[39;49m\u001B[43mpadding\u001B[49m\u001B[43m,\u001B[49m\u001B[43m \u001B[49m\u001B[38;5;28;43mself\u001B[39;49m\u001B[38;5;241;43m.\u001B[39;49m\u001B[43mdilation\u001B[49m\u001B[43m,\u001B[49m\u001B[43m \u001B[49m\u001B[38;5;28;43mself\u001B[39;49m\u001B[38;5;241;43m.\u001B[39;49m\u001B[43mgroups\u001B[49m\u001B[43m)\u001B[49m\n",
      "\u001B[1;31mRuntimeError\u001B[0m: CUDA out of memory. Tried to allocate 7.27 GiB (GPU 0; 6.00 GiB total capacity; 1.41 GiB already allocated; 3.10 GiB free; 1.43 GiB reserved in total by PyTorch)"
     ]
    }
   ]
  },
  {
   "cell_type": "code",
   "metadata": {
    "id": "VPksKnB_w343",
    "colab": {
     "base_uri": "https://localhost:8080/"
    },
    "outputId": "fbee46ad-e63e-4bfc-8971-452895dd7a15"
   },
   "source": [
    "# 3. cuda out of memory error (fixed)\n",
    "for d in data:\n",
    "  out = resnet18(d.to(\"cuda:0\").unsqueeze(0))\n",
    "print(out.shape)"
   ],
   "execution_count": null,
   "outputs": []
  },
  {
   "cell_type": "code",
   "metadata": {
    "id": "vqszlxEE0Bk0",
    "colab": {
     "base_uri": "https://localhost:8080/",
     "height": 346
    },
    "outputId": "a698b34d-00a8-4067-ddc5-180cb4c8eeaa"
   },
   "source": [
    "# 4. mismatched tensor type\n",
    "import torch.nn as nn\n",
    "L = nn.CrossEntropyLoss()\n",
    "outs = torch.randn(5,5)\n",
    "labels = torch.Tensor([1,2,3,4,0])\n",
    "lossval = L(outs,labels) # Calculate CrossEntropyLoss between outs and labels"
   ],
   "execution_count": null,
   "outputs": []
  },
  {
   "cell_type": "code",
   "metadata": {
    "id": "CZwgwup_1dgS",
    "colab": {
     "base_uri": "https://localhost:8080/"
    },
    "outputId": "aaf1de76-7ef2-4ca4-b87d-8482a3117249"
   },
   "source": [
    "# 4. mismatched tensor type (fixed)\n",
    "labels = labels.long()\n",
    "lossval = L(outs,labels)\n",
    "print(lossval)"
   ],
   "execution_count": null,
   "outputs": []
  },
  {
   "cell_type": "markdown",
   "metadata": {
    "id": "dSuNdA8F06dK"
   },
   "source": [
    "**3. More on dataset and dataloader**\n"
   ]
  },
  {
   "cell_type": "markdown",
   "metadata": {
    "id": "in84z_xu1rE6"
   },
   "source": [
    "A dataset is a cluster of data in a organized way. A dataloader is a loader which can iterate through the data set."
   ]
  },
  {
   "cell_type": "markdown",
   "metadata": {
    "id": "34zfh-c22Qqs"
   },
   "source": [
    "Let a dataset be the English alphabets \"abcdefghijklmnopqrstuvwxyz\""
   ]
  },
  {
   "cell_type": "code",
   "metadata": {
    "id": "TaiHofty1qKA"
   },
   "source": [
    "dataset = \"abcdefghijklmnopqrstuvwxyz\""
   ],
   "execution_count": null,
   "outputs": []
  },
  {
   "cell_type": "markdown",
   "metadata": {
    "id": "h0jwhVa12h3a"
   },
   "source": [
    "A simple dataloader could be implemented with the python code \"for\""
   ]
  },
  {
   "cell_type": "code",
   "metadata": {
    "id": "bWC5Wwbv2egy"
   },
   "source": [
    "for datapoint in dataset:\n",
    "  print(datapoint)"
   ],
   "execution_count": null,
   "outputs": []
  },
  {
   "cell_type": "markdown",
   "metadata": {
    "id": "n33VKzkG2y2U"
   },
   "source": [
    "When using the dataloader, we often like to shuffle the data. This is where torch.utils.data.DataLoader comes in handy. If each data is an index (0,1,2...) from the view of torch.utils.data.DataLoader, shuffling can simply be done by shuffling an index array. \n",
    "\n"
   ]
  },
  {
   "cell_type": "markdown",
   "metadata": {
    "id": "9MXUUKQ65APf"
   },
   "source": [
    "torch.utils.data.DataLoader will need two imformation to fulfill its role. First, it needs to know the length of the data. Second, once torch.utils.data.DataLoader outputs the index of the shuffling results, the dataset needs to return the corresponding data."
   ]
  },
  {
   "cell_type": "markdown",
   "metadata": {
    "id": "BV5txsjK5j4j"
   },
   "source": [
    "Therefore, torch.utils.data.Dataset provides the imformation by two functions, `__len__()` and `__getitem__()` to support torch.utils.data.Dataloader"
   ]
  },
  {
   "cell_type": "code",
   "metadata": {
    "id": "A0IEkemJ5ajD"
   },
   "source": [
    "import torch\n",
    "import torch.utils.data \n",
    "class ExampleDataset(torch.utils.data.Dataset):\n",
    "  def __init__(self):\n",
    "    self.data = \"abcdefghijklmnopqrstuvwxyz\"\n",
    "  \n",
    "  def __getitem__(self,idx): # if the index is idx, what will be the data?\n",
    "    return self.data[idx]\n",
    "  \n",
    "  def __len__(self): # What is the length of the dataset\n",
    "    return len(self.data)\n",
    "\n",
    "dataset1 = ExampleDataset() # create the dataset\n",
    "dataloader = torch.utils.data.DataLoader(dataset = dataset1,shuffle = True,batch_size = 1)\n",
    "for datapoint in dataloader:\n",
    "  print(datapoint)"
   ],
   "execution_count": 21,
   "outputs": [
    {
     "name": "stdout",
     "output_type": "stream",
     "text": [
      "['z']\n",
      "['x']\n",
      "['a']\n",
      "['d']\n",
      "['h']\n",
      "['l']\n",
      "['s']\n",
      "['y']\n",
      "['m']\n",
      "['k']\n",
      "['u']\n",
      "['r']\n",
      "['b']\n",
      "['q']\n",
      "['i']\n",
      "['o']\n",
      "['t']\n",
      "['c']\n",
      "['p']\n",
      "['g']\n",
      "['e']\n",
      "['f']\n",
      "['w']\n",
      "['v']\n",
      "['j']\n",
      "['n']\n"
     ]
    }
   ]
  },
  {
   "cell_type": "markdown",
   "metadata": {
    "id": "nTt-ZTid9S2n"
   },
   "source": [
    "A simple data augmentation technique can be done by changing the code in `__len__()` and `__getitem__()`. Suppose we want to double the length of the dataset by adding in the uppercase letters, using only the lowercase dataset, you can change the dataset to the following."
   ]
  },
  {
   "cell_type": "code",
   "metadata": {
    "id": "7Wn3BA2j-NXl"
   },
   "source": [
    "import torch.utils.data \n",
    "class ExampleDataset(torch.utils.data.Dataset):\n",
    "  def __init__(self):\n",
    "    self.data = \"abcdefghijklmnopqrstuvwxyz\"\n",
    "  \n",
    "  def __getitem__(self,idx): # if the index is idx, what will be the data?\n",
    "    if idx >= len(self.data): # if the index >= 26, return upper case letter\n",
    "      return self.data[idx%26].upper()\n",
    "    else: # if the index < 26, return lower case, return lower case letter\n",
    "      return self.data[idx]\n",
    "  \n",
    "  def __len__(self): # What is the length of the dataset\n",
    "    return 2 * len(self.data) # The length is now twice as large\n",
    "\n",
    "dataset1 = ExampleDataset() # create the dataset\n",
    "dataloader = torch.utils.data.DataLoader(dataset = dataset1,shuffle = True,batch_size = 1)\n",
    "for datapoint in dataloader:\n",
    "  print(datapoint)"
   ],
   "execution_count": 22,
   "outputs": [
    {
     "name": "stdout",
     "output_type": "stream",
     "text": [
      "['k']\n",
      "['d']\n",
      "['y']\n",
      "['x']\n",
      "['r']\n",
      "['M']\n",
      "['p']\n",
      "['E']\n",
      "['e']\n",
      "['S']\n",
      "['h']\n",
      "['v']\n",
      "['F']\n",
      "['Z']\n",
      "['b']\n",
      "['V']\n",
      "['a']\n",
      "['O']\n",
      "['w']\n",
      "['g']\n",
      "['l']\n",
      "['P']\n",
      "['D']\n",
      "['N']\n",
      "['Y']\n",
      "['z']\n",
      "['j']\n",
      "['R']\n",
      "['G']\n",
      "['q']\n",
      "['K']\n",
      "['B']\n",
      "['X']\n",
      "['m']\n",
      "['n']\n",
      "['t']\n",
      "['H']\n",
      "['Q']\n",
      "['U']\n",
      "['u']\n",
      "['J']\n",
      "['i']\n",
      "['W']\n",
      "['C']\n",
      "['s']\n",
      "['L']\n",
      "['I']\n",
      "['A']\n",
      "['f']\n",
      "['o']\n",
      "['T']\n",
      "['c']\n"
     ]
    }
   ]
  },
  {
   "cell_type": "code",
   "execution_count": null,
   "outputs": [],
   "source": [],
   "metadata": {
    "collapsed": false
   }
  }
 ]
}
